{
 "cells": [
  {
   "cell_type": "markdown",
   "metadata": {
    "colab_type": "text",
    "id": "xBr4HWkeUgi6"
   },
   "source": [
    "## Assignment 2 version 2"
   ]
  },
  {
   "cell_type": "markdown",
   "metadata": {
    "colab_type": "text",
    "id": "i_BJZTazUgjL"
   },
   "source": [
    "Note: Student name removed.  Submitted, Fall 2019."
   ]
  },
  {
   "cell_type": "code",
   "execution_count": 15,
   "metadata": {
    "colab": {},
    "colab_type": "code",
    "id": "ydZc28MIUgjV"
   },
   "outputs": [],
   "source": [
    "import warnings\n",
    "warnings.filterwarnings('ignore')"
   ]
  },
  {
   "cell_type": "markdown",
   "metadata": {
    "colab_type": "text",
    "id": "QQCi015sUgjx"
   },
   "source": [
    "## Visualization Technique (20%)"
   ]
  },
  {
   "cell_type": "markdown",
   "metadata": {
    "colab_type": "text",
    "id": "dBXgVSN9Ugj5"
   },
   "source": [
    "### A narrative description of the visualization you are planning to use, describing how it works(10%)"
   ]
  },
  {
   "cell_type": "markdown",
   "metadata": {
    "colab_type": "text",
    "id": "sJX7hAhNUgkD"
   },
   "source": [
    "The visualization I am planning to use is scatter plot via seaborn. A scatter plot is a type of plot that shows the data as a collection of points. The position of a point depends on its two-dimentional value, where each value is a position on either the horizontal or vertical dimension.\n",
    "\n",
    "Scatter plots can be used to compare distribution of two variables and see whether there is any correlation between them. If there are distinct clusters/segments within the data, it will be clear in the scatter plot.\n"
   ]
  },
  {
   "cell_type": "markdown",
   "metadata": {
    "colab_type": "text",
    "id": "pRBp-aTWUgkM"
   },
   "source": [
    "### A discussion of in which circumstances this visualization should and should not be used (what is it close to? What else could you consider? How does it relate to specific aspects of data? (10%)"
   ]
  },
  {
   "cell_type": "markdown",
   "metadata": {
    "colab_type": "text",
    "id": "_wJlio7GUgkX"
   },
   "source": [
    "Scatter plots’ primary uses are to identify and present correlational relationships between two numeric variables. Dots in a scatter plot can demonstrate data points values, as well as reveal patterns within the whole dataset.\n",
    "\n",
    "A scatter plot can be used either when one continuous variable is dependent on the other, or when both continuous variables are independent.\n",
    "\n",
    "Sometimes the data points in a scatter plot form distinct groups. These groups are called clusters. Cluster analysis or clustering is the task of grouping a set of objects in such a way that objects in the same group (cluster) are more similar to each other than to those in other group.\n",
    "\n",
    "Some issues when using scatter plots:\n",
    "1. Overplotting. When there are too many data points to plot, overplotting may happen where data points overlap to a degree too difficult to observe relationships between points and variables, because the data points are too densely packed. Work arounds include: 1) sampling a subset of data points: a random selection of points should still give the general idea of the patterns in the full data;2) changingthe form of the dots, adding transparency to allow for overlaps to be visible, or reducing point size so that fewer overlaps occur; 3) switching to a different chart type using various coloring to indicate the number of points in each group.\n",
    "2. Interpreting correlation as causation. Correlation does not imply causation. It is possible that the observed relationship is driven by some third variable that affects both of the plotted variables, that the causal link is reversed, or that the pattern is simply coincidental."
   ]
  },
  {
   "cell_type": "markdown",
   "metadata": {
    "colab_type": "text",
    "id": "GS83M029Ugkh"
   },
   "source": [
    "## Visualization Library (20%)"
   ]
  },
  {
   "cell_type": "markdown",
   "metadata": {
    "colab_type": "text",
    "id": "9vN0htFNUgkr"
   },
   "source": [
    "### The library you are going to use, and a background on why the library is good for this visualization. Who created it? Is it open source? How do you install it? (10%)"
   ]
  },
  {
   "cell_type": "markdown",
   "metadata": {
    "colab_type": "text",
    "id": "HPQiszEgUgkz"
   },
   "source": [
    "The library I am going to use is Seaborn. Seaborn works with the dataset as a whole and is much more intuitive than Matplotlib.\n",
    "\n",
    "“If Matplotlib “tries to make easy things easy and hard things possible, seaborn tries to make a well-defined set of hard things easy too” – Michael Waskom (Creator of Seaborn).\n",
    "\n",
    "Michael Waskom is a postdoctoral researcher in the Center for Neural Science at New York University and a Junior Fellow of the Simons Society of Fellows. He is the creator of Seaborn, an open-source Python data visualization library.\n",
    "\n",
    "Seaborn was developed based on the Matplotlib library. It is used to create more attractive and informative statistical graphics. While seaborn is a different package, it can also be used to develop the attractiveness of matplotlib graphics."
   ]
  },
  {
   "cell_type": "markdown",
   "metadata": {
    "colab_type": "text",
    "id": "ZYnhzatVUgk7"
   },
   "source": [
    "Seaborn Installation\n",
    "- Pip installation: `pip install seaborn`\n",
    "- Conda Installation: `conda install seaborn`\n",
    "- Alternatively, you can use pip to install the development version directly from github: `pip install git+https://github.com/mwaskom/seaborn.git`\n",
    "- Another option: clone the github repository and install from your local copy: `pip install .`"
   ]
  },
  {
   "cell_type": "markdown",
   "metadata": {
    "colab_type": "text",
    "id": "4Ohym0dpUglE"
   },
   "source": [
    "### A discussion of the general approach and limitations of this library. Is it declarative or procedural? Does it integrate with Jupyter? Why you decided to use this library (especially if there are other options)? (10%)"
   ]
  },
  {
   "cell_type": "markdown",
   "metadata": {
    "colab_type": "text",
    "id": "70Vfx97IUglM"
   },
   "source": [
    "Seaborn library, similar to matplotlib pyplot, its scripting layer is a procedural method for building a visualization. In that we tell the underlying software which drawing actions we wanted to take in order to render our data.\n",
    "\n",
    "Seaborn overcomes some of the Matplotlib shortcomings:\n",
    " - Matplotlib's customization level is limited. It is hard to find out in Matplotlib which settings are required to make plots more appealing. Seaborn has more customization themes options and high-level interfaces to solve this issue.\n",
    " - Matplotlib doesn’t work as well with DataFrames via Pandas as Seaborn does.\n",
    "\n",
    "Specifically, the reasons I chose Seaborn also involve the following strengths of Seaborn:\n",
    "- Using default themes that are aesthetically pleasing.\n",
    "- Setting custom color palettes.\n",
    "- Making attractive statistical plots.\n",
    "- Easily and flexibly displaying distributions.\n",
    "- Visualizing information from matrices and DataFrames.\n",
    "\n",
    "Limitation: Seaborn is dependent of numpy, scipy, pandas and Matplotlib. It is unlikely to utilize Seaborn alone without Matplotlib to complete 3D scatter plotting. Therefore, I can only pick two of the most curious variables as my obsevation parameters for the 2 dimensional plot."
   ]
  },
  {
   "cell_type": "markdown",
   "metadata": {
    "colab_type": "text",
    "id": "w6wThAPDUglV"
   },
   "source": [
    "## Demonstration (60%)"
   ]
  },
  {
   "cell_type": "markdown",
   "metadata": {
    "colab_type": "text",
    "id": "wYesNnn-Ugld"
   },
   "source": [
    "### The dataset you picked and instructions for cleaning the dataset. You should pick a suitable dataset to demonstrate the technique, toolkit, and problem you are facing. (10%)"
   ]
  },
  {
   "cell_type": "markdown",
   "metadata": {
    "colab_type": "text",
    "id": "zses5bDuUglm"
   },
   "source": [
    "For this specific shopping mall customers dataset, I am curious in observing any potential correlational relationship between customers' income and spending. I am planning on utilizing two of the continuous variables in the dataset, `Annual Income($k)` and and `Spending Score (1-100)` to form the scatter plot axes, and uncover distinct groups of customer mix groups (clusters).\n",
    "\n",
    "Data source:https://www.kaggle.com/shwetabh123/mall-customers\n",
    "\n",
    "I have downloaded the dataset to a csv file along with the notebook submission."
   ]
  },
  {
   "cell_type": "code",
   "execution_count": 16,
   "metadata": {
    "colab": {
     "base_uri": "https://localhost:8080/",
     "height": 426
    },
    "colab_type": "code",
    "executionInfo": {
     "elapsed": 1001,
     "status": "error",
     "timestamp": 1584194451158,
     "user": {
      "displayName": "Grant Schoenebeck",
      "photoUrl": "",
      "userId": "04620784957482198376"
     },
     "user_tz": 240
    },
    "id": "UleTHbLJUglt",
    "outputId": "bc426efc-e7a3-421b-8613-a26dcc2558b2"
   },
   "outputs": [
    {
     "data": {
      "text/html": [
       "<div>\n",
       "<style scoped>\n",
       "    .dataframe tbody tr th:only-of-type {\n",
       "        vertical-align: middle;\n",
       "    }\n",
       "\n",
       "    .dataframe tbody tr th {\n",
       "        vertical-align: top;\n",
       "    }\n",
       "\n",
       "    .dataframe thead th {\n",
       "        text-align: right;\n",
       "    }\n",
       "</style>\n",
       "<table border=\"1\" class=\"dataframe\">\n",
       "  <thead>\n",
       "    <tr style=\"text-align: right;\">\n",
       "      <th></th>\n",
       "      <th>CustomerID</th>\n",
       "      <th>Gender</th>\n",
       "      <th>Age</th>\n",
       "      <th>Annual Income (k$)</th>\n",
       "      <th>Spending Score (1-100)</th>\n",
       "    </tr>\n",
       "  </thead>\n",
       "  <tbody>\n",
       "    <tr>\n",
       "      <th>0</th>\n",
       "      <td>1</td>\n",
       "      <td>Male</td>\n",
       "      <td>19</td>\n",
       "      <td>15</td>\n",
       "      <td>39</td>\n",
       "    </tr>\n",
       "    <tr>\n",
       "      <th>1</th>\n",
       "      <td>2</td>\n",
       "      <td>Male</td>\n",
       "      <td>21</td>\n",
       "      <td>15</td>\n",
       "      <td>81</td>\n",
       "    </tr>\n",
       "    <tr>\n",
       "      <th>2</th>\n",
       "      <td>3</td>\n",
       "      <td>Female</td>\n",
       "      <td>20</td>\n",
       "      <td>16</td>\n",
       "      <td>6</td>\n",
       "    </tr>\n",
       "    <tr>\n",
       "      <th>3</th>\n",
       "      <td>4</td>\n",
       "      <td>Female</td>\n",
       "      <td>23</td>\n",
       "      <td>16</td>\n",
       "      <td>77</td>\n",
       "    </tr>\n",
       "    <tr>\n",
       "      <th>4</th>\n",
       "      <td>5</td>\n",
       "      <td>Female</td>\n",
       "      <td>31</td>\n",
       "      <td>17</td>\n",
       "      <td>40</td>\n",
       "    </tr>\n",
       "  </tbody>\n",
       "</table>\n",
       "</div>"
      ],
      "text/plain": [
       "   CustomerID  Gender  Age  Annual Income (k$)  Spending Score (1-100)\n",
       "0           1    Male   19                  15                      39\n",
       "1           2    Male   21                  15                      81\n",
       "2           3  Female   20                  16                       6\n",
       "3           4  Female   23                  16                      77\n",
       "4           5  Female   31                  17                      40"
      ]
     },
     "execution_count": 16,
     "metadata": {},
     "output_type": "execute_result"
    }
   ],
   "source": [
    "import numpy as np\n",
    "import pandas as pd\n",
    "import seaborn as sns\n",
    "import matplotlib.pyplot as plt\n",
    "%matplotlib inline\n",
    "\n",
    "# reading and briefly observing data\n",
    "df = pd.read_csv(\"Mall_Customers.csv\")\n",
    "df.head()"
   ]
  },
  {
   "cell_type": "code",
   "execution_count": 17,
   "metadata": {
    "colab": {},
    "colab_type": "code",
    "id": "IFlxJIQJUgmT",
    "outputId": "566d960f-bc7d-452f-a8f2-591e00557dfd"
   },
   "outputs": [
    {
     "data": {
      "text/plain": [
       "count    200.000000\n",
       "mean      60.560000\n",
       "std       26.264721\n",
       "min       15.000000\n",
       "25%       41.500000\n",
       "50%       61.500000\n",
       "75%       78.000000\n",
       "max      137.000000\n",
       "Name: Annual Income (k$), dtype: float64"
      ]
     },
     "execution_count": 17,
     "metadata": {},
     "output_type": "execute_result"
    }
   ],
   "source": [
    "#Examining the df['Annual Income (k$)'] series\n",
    "df['Annual Income (k$)'].describe()"
   ]
  },
  {
   "cell_type": "code",
   "execution_count": 18,
   "metadata": {
    "colab": {},
    "colab_type": "code",
    "id": "Pf4kfmO8Ugmn",
    "outputId": "b18be812-9d35-4669-e260-02ba8f428b90"
   },
   "outputs": [
    {
     "data": {
      "text/plain": [
       "<AxesSubplot:xlabel='Annual Income (k$)', ylabel='Density'>"
      ]
     },
     "execution_count": 18,
     "metadata": {},
     "output_type": "execute_result"
    },
    {
     "data": {
      "image/png": "[encoded data removed]",
      "text/plain": [
       "<Figure size 432x288 with 1 Axes>"
      ]
     },
     "metadata": {
      "needs_background": "light"
     },
     "output_type": "display_data"
    }
   ],
   "source": [
    "sns.distplot(df['Annual Income (k$)'])"
   ]
  },
  {
   "cell_type": "markdown",
   "metadata": {
    "colab_type": "text",
    "id": "wQovKkJWUgm_"
   },
   "source": [
    "It appears that the majority of customers have income within the range of approximately $20k-$90k."
   ]
  },
  {
   "cell_type": "code",
   "execution_count": 19,
   "metadata": {
    "colab": {},
    "colab_type": "code",
    "id": "ze7HtCOgUgnF",
    "outputId": "82446bfd-35c9-4cbb-cd2a-a40e0a8bbf60"
   },
   "outputs": [
    {
     "data": {
      "text/plain": [
       "count    200.000000\n",
       "mean      50.200000\n",
       "std       25.823522\n",
       "min        1.000000\n",
       "25%       34.750000\n",
       "50%       50.000000\n",
       "75%       73.000000\n",
       "max       99.000000\n",
       "Name: Spending Score (1-100), dtype: float64"
      ]
     },
     "execution_count": 19,
     "metadata": {},
     "output_type": "execute_result"
    }
   ],
   "source": [
    "#Examining the df['Spending Score (1-100)'] series\n",
    "df['Spending Score (1-100)'].describe()"
   ]
  },
  {
   "cell_type": "code",
   "execution_count": 20,
   "metadata": {
    "colab": {},
    "colab_type": "code",
    "id": "mV0hvIWyUgnx",
    "outputId": "814e17a5-8b44-4f82-e201-998e729ae861"
   },
   "outputs": [
    {
     "data": {
      "text/plain": [
       "<AxesSubplot:xlabel='Spending Score (1-100)', ylabel='Density'>"
      ]
     },
     "execution_count": 20,
     "metadata": {},
     "output_type": "execute_result"
    },
    {
     "data": {
      "image/png": "[encoded data removed]",
      "text/plain": [
       "<Figure size 432x288 with 1 Axes>"
      ]
     },
     "metadata": {
      "needs_background": "light"
     },
     "output_type": "display_data"
    }
   ],
   "source": [
    "sns.distplot(df['Spending Score (1-100)'])"
   ]
  },
  {
   "cell_type": "markdown",
   "metadata": {
    "colab_type": "text",
    "id": "5T_SypOsUgoa"
   },
   "source": [
    "The most centralized group of customers has spending score within approximately 40-60 range."
   ]
  },
  {
   "cell_type": "markdown",
   "metadata": {
    "colab_type": "text",
    "id": "kSy91oAZUgog"
   },
   "source": [
    "### The quality of your demonstration. First demonstrate the basics of this approach, then show a few of the edges of how the library might be used for other cases. This is the \"meat\" of the assignment. (40%)"
   ]
  },
  {
   "cell_type": "markdown",
   "metadata": {
    "colab_type": "text",
    "id": "7eQBu6KtUgol"
   },
   "source": [
    "One of Seaborn's greatest strengths is its diversity of plotting functions. For instance, to draw a scatter plot with possibility of several semantic groupings takes just one line of code using the `scatterplot()` function."
   ]
  },
  {
   "cell_type": "code",
   "execution_count": 21,
   "metadata": {
    "colab": {},
    "colab_type": "code",
    "id": "jOxGwTukUgoo",
    "outputId": "fc144764-3ead-4692-e64a-30de3dd72ca7"
   },
   "outputs": [
    {
     "data": {
      "text/plain": [
       "<AxesSubplot:xlabel='Annual Income (k$)', ylabel='Spending Score (1-100)'>"
      ]
     },
     "execution_count": 21,
     "metadata": {},
     "output_type": "execute_result"
    },
    {
     "data": {
      "image/png": "[encoded data removed]",
      "text/plain": [
       "<Figure size 432x288 with 1 Axes>"
      ]
     },
     "metadata": {
      "needs_background": "light"
     },
     "output_type": "display_data"
    }
   ],
   "source": [
    "sns.scatterplot(x='Annual Income (k$)',y='Spending Score (1-100)',data=df)"
   ]
  },
  {
   "cell_type": "markdown",
   "metadata": {
    "colab_type": "text",
    "id": "d_7Z6MAIUgow"
   },
   "source": [
    "As shown in the scatter plot above, there are 5 relatively distinctively identifiable groups formed within the dataset:\n",
    "1. lower income (<40k) + lower spend(<40);\n",
    "2. lower income(<40k) + higher spend(>60);\n",
    "3. mid income(40k-70k) + mid spend (40-60);\n",
    "4. higher income(>70k) + lower spend (<40);\n",
    "5. higher income(>70k) + higher spend(>60)"
   ]
  },
  {
   "cell_type": "markdown",
   "metadata": {
    "colab_type": "text",
    "id": "FzsptxmyUgoy"
   },
   "source": [
    "To make the groups more visually distinctive, I can color code the groups after adding a categorical parameter in the original dataframe."
   ]
  },
  {
   "cell_type": "code",
   "execution_count": 22,
   "metadata": {
    "colab": {},
    "colab_type": "code",
    "id": "qq5z6jDHUgo0"
   },
   "outputs": [],
   "source": [
    "#income tiers: lower income (li), mid income (mi), higher income (hi)\n",
    "li = (df['Annual Income (k$)'] < 40)\n",
    "mi = (df['Annual Income (k$)'] >= 40) & (df['Annual Income (k$)'] < 70)\n",
    "hi = (df['Annual Income (k$)'] >= 70)\n",
    "\n",
    "#spending score tiers: lower spend(ls),mid spend (ms),higher spend (hs)\n",
    "ls = (df['Spending Score (1-100)'] <= 40)\n",
    "ms = (df['Spending Score (1-100)'] > 40) & (df['Spending Score (1-100)'] <= 60)\n",
    "hs = (df['Spending Score (1-100)'] > 60)"
   ]
  },
  {
   "cell_type": "code",
   "execution_count": 23,
   "metadata": {
    "colab": {},
    "colab_type": "code",
    "id": "NfehrA4ZUgo7"
   },
   "outputs": [],
   "source": [
    "#creating a new categorical variable 'group', \n",
    "df['group']=''"
   ]
  },
  {
   "cell_type": "code",
   "execution_count": 24,
   "metadata": {
    "colab": {},
    "colab_type": "code",
    "id": "T1bzF3zNUgpB"
   },
   "outputs": [],
   "source": [
    "#Assigning group numbers based on observed categories as above.\n",
    "df['group'][li & ls]=1\n",
    "df['group'][li & hs]=2\n",
    "df['group'][mi & ms]=3\n",
    "df['group'][hi & ls]=4\n",
    "df['group'][hi & hs]=5"
   ]
  },
  {
   "cell_type": "code",
   "execution_count": 25,
   "metadata": {
    "colab": {},
    "colab_type": "code",
    "id": "BxmwUSOeUgpF",
    "outputId": "13b0620c-b9b2-4414-cde1-2b970623a0ed"
   },
   "outputs": [
    {
     "data": {
      "text/html": [
       "<div>\n",
       "<style scoped>\n",
       "    .dataframe tbody tr th:only-of-type {\n",
       "        vertical-align: middle;\n",
       "    }\n",
       "\n",
       "    .dataframe tbody tr th {\n",
       "        vertical-align: top;\n",
       "    }\n",
       "\n",
       "    .dataframe thead th {\n",
       "        text-align: right;\n",
       "    }\n",
       "</style>\n",
       "<table border=\"1\" class=\"dataframe\">\n",
       "  <thead>\n",
       "    <tr style=\"text-align: right;\">\n",
       "      <th></th>\n",
       "      <th>CustomerID</th>\n",
       "      <th>Gender</th>\n",
       "      <th>Age</th>\n",
       "      <th>Annual Income (k$)</th>\n",
       "      <th>Spending Score (1-100)</th>\n",
       "      <th>group</th>\n",
       "    </tr>\n",
       "  </thead>\n",
       "  <tbody>\n",
       "    <tr>\n",
       "      <th>93</th>\n",
       "      <td>94</td>\n",
       "      <td>Female</td>\n",
       "      <td>40</td>\n",
       "      <td>60</td>\n",
       "      <td>40</td>\n",
       "      <td></td>\n",
       "    </tr>\n",
       "    <tr>\n",
       "      <th>121</th>\n",
       "      <td>122</td>\n",
       "      <td>Female</td>\n",
       "      <td>38</td>\n",
       "      <td>67</td>\n",
       "      <td>40</td>\n",
       "      <td></td>\n",
       "    </tr>\n",
       "    <tr>\n",
       "      <th>123</th>\n",
       "      <td>124</td>\n",
       "      <td>Male</td>\n",
       "      <td>39</td>\n",
       "      <td>69</td>\n",
       "      <td>91</td>\n",
       "      <td></td>\n",
       "    </tr>\n",
       "  </tbody>\n",
       "</table>\n",
       "</div>"
      ],
      "text/plain": [
       "     CustomerID  Gender  Age  Annual Income (k$)  Spending Score (1-100) group\n",
       "93           94  Female   40                  60                      40      \n",
       "121         122  Female   38                  67                      40      \n",
       "123         124    Male   39                  69                      91      "
      ]
     },
     "execution_count": 25,
     "metadata": {},
     "output_type": "execute_result"
    }
   ],
   "source": [
    "#checking to see if there are any rows left ungrouped\n",
    "df.loc[df['group'] =='']"
   ]
  },
  {
   "cell_type": "code",
   "execution_count": 26,
   "metadata": {
    "colab": {},
    "colab_type": "code",
    "id": "bPuWK541UgpL",
    "outputId": "18cfa6b0-3653-4afe-abe1-7e082fd24a50"
   },
   "outputs": [
    {
     "data": {
      "text/plain": [
       "array([1, 2, 3, 'other', 4, 5], dtype=object)"
      ]
     },
     "execution_count": 26,
     "metadata": {},
     "output_type": "execute_result"
    }
   ],
   "source": [
    "#assigning the 3 to an 'other' group\n",
    "df['group'].loc[df['group'] =='']='other'\n",
    "df['group'].unique()"
   ]
  },
  {
   "cell_type": "code",
   "execution_count": 27,
   "metadata": {
    "colab": {},
    "colab_type": "code",
    "id": "a47-3iSBUgpR",
    "outputId": "a17ba0bc-3f9d-4ed9-c770-4d0d2831d132"
   },
   "outputs": [
    {
     "data": {
      "text/plain": [
       "<AxesSubplot:xlabel='Annual Income (k$)', ylabel='Spending Score (1-100)'>"
      ]
     },
     "execution_count": 27,
     "metadata": {},
     "output_type": "execute_result"
    },
    {
     "data": {
      "image/png": "[encoded data removed]",
      "text/plain": [
       "<Figure size 432x288 with 1 Axes>"
      ]
     },
     "metadata": {
      "needs_background": "light"
     },
     "output_type": "display_data"
    }
   ],
   "source": [
    "#Now we can plot all group color coded using the hue argument, changing the color palette to a prettier outlook.\n",
    "sns.scatterplot(x='Annual Income (k$)',y='Spending Score (1-100)',hue='group',data=df,palette='pastel')"
   ]
  },
  {
   "cell_type": "markdown",
   "metadata": {
    "colab_type": "text",
    "id": "smt8qMruUgpX"
   },
   "source": [
    "Additional exploration aspects:\n",
    "\n",
    "`lmplot()` provides a combined approach of plotter scatter dots and regression line in one simple step in the same chart. It is intended as a convenient interface to fit regression models across conditional subsets of a dataset."
   ]
  },
  {
   "cell_type": "code",
   "execution_count": 28,
   "metadata": {
    "colab": {},
    "colab_type": "code",
    "id": "6iOQGk64UgpY"
   },
   "outputs": [
    {
     "data": {
      "text/plain": [
       "<seaborn.axisgrid.FacetGrid at 0x1fb54930ee0>"
      ]
     },
     "execution_count": 28,
     "metadata": {},
     "output_type": "execute_result"
    },
    {
     "data": {
      "image/png": "[encoded data removed]",
      "text/plain": [
       "<Figure size 360x360 with 1 Axes>"
      ]
     },
     "metadata": {
      "needs_background": "light"
     },
     "output_type": "display_data"
    }
   ],
   "source": [
    "sns.lmplot(x='Annual Income (k$)',y='Spending Score (1-100)',data=df,palette='pastel')"
   ]
  },
  {
   "cell_type": "markdown",
   "metadata": {
    "colab_type": "text",
    "id": "zy5hB-SWUgpd"
   },
   "source": [
    "Additional Discussion around limiations of this method: Although there are many additional variations of markers in seaborn scatter plots, bubble plots and 3D axes are easier to realize in matplotlib."
   ]
  },
  {
   "cell_type": "markdown",
   "metadata": {
    "colab_type": "text",
    "id": "W94X-mkrUgpf"
   },
   "source": [
    "### Adherence to some of Rule et al's rules for computational analyses. You must explicitly describe the rules (aim for 4) you have adhered to in this assignment and provide 2-3 sentences about how you have adhered to these rules. (10%)"
   ]
  },
  {
   "cell_type": "markdown",
   "metadata": {
    "colab_type": "text",
    "id": "EYHbqn67Ugpg"
   },
   "source": [
    "#### Rule 1: Tell a story for an audience\n",
    "This rule suggests us to use the Jupyter Notebook to interleve with explanatory text with code and result to create a computational narrative, that not only contains bare bone codes, but also tell a story of the mission and thought process of myself as the storyteller.\n",
    "As outlined in the article, how I tell the story in my notebook should depend on my goal and audience. This notebook will likely only be shared and viewed among this course's teaching team. Therefore my explanation in addition to my code needs to be on point and succinct, focusing more on the outlines required in the assignment instructions, rather than expanding too much into real world cluster analysis application among customer segmentation and other aspects."
   ]
  },
  {
   "cell_type": "markdown",
   "metadata": {
    "colab_type": "text",
    "id": "DabhTboYUgpi"
   },
   "source": [
    "#### Rule 2: Document the process, not just the results\n",
    "This rule refers to cleaning, organizing, and annoting my notebook consistently. To best utilize the interactivitiy of Jupyter notebook, I have noted through out the notebook consistently the techniques I utlized and the thought process of my data visualization and analysis. The grading team will be able to understand my thought process and the iterations I took to demonstrate the edges of the library as far as I explored the features."
   ]
  },
  {
   "cell_type": "markdown",
   "metadata": {
    "colab_type": "text",
    "id": "0KJOg8P6Ugpj"
   },
   "source": [
    "#### Rule 3 Use cell divisions to make steps clear\n",
    "This rule reminds us to avoid cells too long, and suggests that we put low-level documentation in code comments, and put descriptive markdown headers to organize the notebook into sections easier for people to navigate through, and to add table of contents or separate into a series of indexed notebooks if needed. As shown above, I have sectioned each main section as required in the assignement accordingly, while also commented or used separate mark down cells as descriptions through out my assignment."
   ]
  },
  {
   "cell_type": "markdown",
   "metadata": {
    "colab_type": "text",
    "id": "e8iIP-CgUgpl"
   },
   "source": [
    "#### Rule 4 Modularize code\n",
    "This rule encourages us avoid duplicate code by modularizing the sections. This avoids getting the cells too messy to read, or too difficult to debug.\n",
    "I have modularized the income and spending tiering so that when I was later creating cluster groups, those modules were referred and therefore shortened the codes."
   ]
  },
  {
   "cell_type": "markdown",
   "metadata": {
    "colab_type": "text",
    "id": "t5wOtXlyUgpm"
   },
   "source": [
    "Additional thoughts on spending scores: I was not able to find clear exploration regarding the Spending Score (1-100) grading system or rationale. It could be graded based on the customers' self-reporting spending willingness, transactional data comparison among existing mall customers, or spending behavior comparing to even larger sample size independent of shopping behavior at the mall."
   ]
  },
  {
   "cell_type": "markdown",
   "metadata": {
    "colab_type": "text",
    "id": "PfpTsr6wUgpo"
   },
   "source": [
    "Additional thoughts on clustering approach: there are more advanced approach to help guide researchers identify the optimal number of clusters within a dataset, such as k-means clustering. Looking forward to exploring them in future tasks and assignments."
   ]
  },
  {
   "cell_type": "code",
   "execution_count": null,
   "metadata": {},
   "outputs": [],
   "source": []
  }
 ],
 "metadata": {
  "colab": {
   "name": "student_01-siads521-assignment2-2019Fall.ipynb",
   "provenance": []
  },
  "kernelspec": {
   "display_name": "Python 3",
   "language": "python",
   "name": "python3"
  },
  "language_info": {
   "codemirror_mode": {
    "name": "ipython",
    "version": 3
   },
   "file_extension": ".py",
   "mimetype": "text/x-python",
   "name": "python",
   "nbconvert_exporter": "python",
   "pygments_lexer": "ipython3",
   "version": "3.8.5"
  }
 },
 "nbformat": 4,
 "nbformat_minor": 1
}
